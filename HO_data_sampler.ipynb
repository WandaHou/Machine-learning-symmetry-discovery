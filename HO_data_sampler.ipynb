{
 "cells": [
  {
   "cell_type": "code",
   "execution_count": 12,
   "id": "458d8dcc-7994-459c-848f-80b95af99746",
   "metadata": {},
   "outputs": [],
   "source": [
    "import numpy as np\n",
    "from scipy.integrate import solve_ivp\n",
    "import matplotlib.pyplot as plt\n",
    "from math import pi\n",
    "import torch\n",
    "\n",
    "dtype = torch.double\n",
    "device = torch.device('cuda') if torch.cuda.is_available() else torch.device('cpu')\n",
    "\n",
    "def kepler_orbit(initial_conditions, t_max=None, dt=0.001):\n",
    "    \n",
    "    def equations(t, xps):\n",
    "        x, y, z , px, py, pz = xps\n",
    "        dxdt = px\n",
    "        dydt = py\n",
    "        dzdt = pz\n",
    "        dpxdt = -x\n",
    "        dpydt = -y\n",
    "        dpzdt = -z\n",
    "        return [dxdt, dydt, dzdt, dpxdt, dpydt, dpzdt]\n",
    "    def equations(t, xps):\n",
    "        x, y, z , px, py, pz = xps\n",
    "        dxdt = px\n",
    "        dydt = py\n",
    "        dzdt = pz\n",
    "        dpxdt = - x / (x**2 + y**2 + z**2)**(3/2)\n",
    "        dpydt = - y / (x**2 + y**2 + z**2)**(3/2)\n",
    "        dpzdt = - z / (x**2 + y**2 + z**2)**(3/2)\n",
    "        return [dxdt, dydt, dzdt, dpxdt, dpydt, dpzdt]\n",
    "\n",
    "    t_eval = np.arange(0, t_max, dt)\n",
    "    sol = solve_ivp(equations, [0, t_max], initial_conditions, t_eval=t_eval, atol=1e-10, rtol=1e-8)\n",
    "    out = [sol.y[i] for i in range(6)]\n",
    "\n",
    "    return np.column_stack(out)\n",
    "\n",
    "def energy_kep(xps):\n",
    "    \"energy function of Kepler problem\"\n",
    "    return ((xps[:,3:]**2).sum(-1) / 2 - 1 / torch.norm(xps[:,:3], dim=-1)).view(-1, 1) # (..., 1)"
   ]
  },
  {
   "cell_type": "code",
   "execution_count": 14,
   "id": "85f3a817-e140-47a6-88c2-957e8f184036",
   "metadata": {},
   "outputs": [],
   "source": [
    "def potential(data, tgt):\n",
    "    \"potential function for HMC\"\n",
    "    return ((energy_kep(data) - tgt)**2).view(-1)\n",
    "\n",
    "class HMCSampler():\n",
    "    def __init__(self, energy):\n",
    "        self.energy = energy\n",
    "\n",
    "    def grad_energy(self, x, tgt):\n",
    "        with torch.enable_grad():\n",
    "            x.requires_grad_(True)\n",
    "            total_energy = self.energy(x, tgt).sum()\n",
    "            grad_energy = torch.autograd.grad(total_energy, x)[0]\n",
    "        x.requires_grad_(False)\n",
    "        return grad_energy\n",
    "\n",
    "    def leap_frog(self, x0, p0, tgt, dt=0.01, traj_len=32):\n",
    "        with torch.no_grad():\n",
    "            x, p = x0, p0\n",
    "            p = p - 0.5 * dt * self.grad_energy(x, tgt)\n",
    "            x = x + dt * p\n",
    "            for t in range(traj_len):\n",
    "                p = p - dt * self.grad_energy(x, tgt)\n",
    "                x = x + dt * p\n",
    "            p = p - 0.5 * dt * self.grad_energy(x, tgt)\n",
    "        return x, p\n",
    "\n",
    "    def hamiltonian(self, x, p, tgt):\n",
    "        V = self.energy(x, tgt)\n",
    "        K = (p ** 2).sum(-1) / 2\n",
    "        return K + V\n",
    "\n",
    "    def step(self, x0, tgt, **kwargs):\n",
    "        p0 = torch.randn_like(x0)\n",
    "        H0 = self.hamiltonian(x0, p0, tgt)\n",
    "        x, p = self.leap_frog(x0, p0, tgt, **kwargs)\n",
    "        H = self.hamiltonian(x, p, tgt)\n",
    "        prob_accept = torch.exp(H0 - H)\n",
    "        mask = prob_accept > torch.rand_like(prob_accept)\n",
    "        x = torch.where(mask[...,None], x, x0)\n",
    "        return x\n",
    "\n",
    "    def update(self, x, tgt, steps=1, **kwargs):\n",
    "        for _ in range(steps):\n",
    "            x = self.step(x, tgt, **kwargs)\n",
    "        return x\n",
    "    \n",
    "def get_data(N=100, tgt=-5, steps=100):\n",
    "    sampler = HMCSampler(potential)\n",
    "    init_data = torch.randn((N, 6), device=device, dtype=dtype)\n",
    "    init_data = sampler.update(init_data, tgt, steps)\n",
    "    init_data = init_data[energy(init_data).view(-1) < 0]\n",
    "    return init_data.requires_grad_(True)"
   ]
  },
  {
   "cell_type": "code",
   "execution_count": 17,
   "id": "d7321563-70cf-4e14-97a8-a8bf8e5cb7bf",
   "metadata": {},
   "outputs": [],
   "source": [
    "def get_data(N=100, tgt=-5, steps=100):\n",
    "    sampler = HMCSampler(potential)\n",
    "    init_data = torch.randn((N, 6), device=device, dtype=dtype)\n",
    "    init_data = sampler.update(init_data, tgt, steps)\n",
    "    init_data = init_data[energy_kep(init_data).view(-1) < 0]\n",
    "    return init_data.requires_grad_(True)"
   ]
  },
  {
   "cell_type": "code",
   "execution_count": 18,
   "id": "9996131a-18c9-4053-be8e-0633e52440b2",
   "metadata": {},
   "outputs": [],
   "source": [
    "X = []\n",
    "data = get_data(N=200)\n",
    "for d in data:\n",
    "    out = kepler_orbit(d.tolist(), t_max=10, dt=0.001)\n",
    "    out = torch.tensor(out)\n",
    "    # E,V=torch.linalg.eigh(out[:,:3].T@out[:,:3])\n",
    "    # pos=(out[:,:3]@V)[:,1:]\n",
    "    X.append(out[None,...])\n",
    "X = torch.cat(X, 0)"
   ]
  },
  {
   "cell_type": "code",
   "execution_count": 21,
   "id": "dbe6fb35-58a6-454e-95be-abd18b937546",
   "metadata": {},
   "outputs": [
    {
     "data": {
      "image/png": "[encoded data removed]",
      "text/plain": [
       "<Figure size 800x800 with 1 Axes>"
      ]
     },
     "metadata": {},
     "output_type": "display_data"
    }
   ],
   "source": [
    "i = 2\n",
    "\n",
    "E, V = torch.linalg.eigh(X[i][:,:3].T@X[i][:,:3])\n",
    "xy0 = X[i][:,:3]@V\n",
    "x0 = xy0[:,1]\n",
    "y0 = xy0[:,2]\n",
    "\n",
    "# Plot the orbit\n",
    "plt.figure(figsize=(8, 8))\n",
    "plt.plot(x0, y0)\n",
    "plt.xlabel('x')\n",
    "plt.ylabel('y')\n",
    "plt.title('Orbit from Kepler\\'s Problem')\n",
    "plt.grid(True)\n",
    "plt.axis('equal')\n",
    "plt.scatter(0, 0, color='red', zorder=5)\n",
    "plt.show()"
   ]
  },
  {
   "cell_type": "code",
   "execution_count": null,
   "id": "78311d91-42ac-4176-9939-93e2b8e05e27",
   "metadata": {},
   "outputs": [],
   "source": []
  }
 ],
 "metadata": {
  "kernelspec": {
   "display_name": "Python 3 (ipykernel)",
   "language": "python",
   "name": "python3"
  },
  "language_info": {
   "codemirror_mode": {
    "name": "ipython",
    "version": 3
   },
   "file_extension": ".py",
   "mimetype": "text/x-python",
   "name": "python",
   "nbconvert_exporter": "python",
   "pygments_lexer": "ipython3",
   "version": "3.10.9"
  }
 },
 "nbformat": 4,
 "nbformat_minor": 5
}
